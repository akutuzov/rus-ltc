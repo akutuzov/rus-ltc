{
 "cells": [
  {
   "cell_type": "code",
   "execution_count": 8,
   "metadata": {
    "collapsed": true
   },
   "outputs": [],
   "source": [
    "# test number of tus and tuvs; number of tuvs per tu and filenames from filesource attribute of tuvs within a tu \n",
    "# Sept 24, 2017 this is a working version\n",
    "\n",
    "import sys, codecs\n",
    "from xml.dom import minidom\n",
    "\n"
   ]
  },
  {
   "cell_type": "code",
   "execution_count": 9,
   "metadata": {
    "collapsed": true
   },
   "outputs": [],
   "source": [
    "arg1 = '/home/masha/birmingham/data/finalDavid.tmx' #finalDavid.tmx fin_filtered_rltc.tmx"
   ]
  },
  {
   "cell_type": "code",
   "execution_count": 10,
   "metadata": {},
   "outputs": [],
   "source": [
    "# produce a list of tus\n",
    "doc = minidom.parse(arg1)\n",
    "body = doc.childNodes[1].childNodes[3] # equals body = doc.getElementsByTagName(\"body\")[0]\n",
    "tus = body.getElementsByTagName(\"tu\")"
   ]
  },
  {
   "cell_type": "code",
   "execution_count": 11,
   "metadata": {},
   "outputs": [
    {
     "name": "stdout",
     "output_type": "stream",
     "text": [
      "I have 9127 translation units in this tmx\n",
      "I have 18254 translation unit variants in this tmx\n"
     ]
    }
   ],
   "source": [
    "# return counts of tus and tuvs within the body tree-structure\n",
    "tu_num = len(tus)\n",
    "print \"I have\", str(tu_num), \"translation units in this tmx\"\n",
    "tuvs = body.getElementsByTagName(\"tuv\")\n",
    "tuv_num = len(tuvs)\n",
    "print \"I have\", str(tuv_num), \"translation unit variants in this tmx\""
   ]
  },
  {
   "cell_type": "code",
   "execution_count": 12,
   "metadata": {},
   "outputs": [
    {
     "name": "stdout",
     "output_type": "stream",
     "text": [
      "0  TUs have > 2 tuvs\n",
      "0  TUs have < 2 tuvs\n",
      "9127  TUs have exactly 2 tuvs\n",
      "TUs: 9127 tuvs: 18254\n"
     ]
    }
   ],
   "source": [
    "# see how many tuvs are there per tu\n",
    "under2 = 0\n",
    "over2 = 0\n",
    "looksgood = 0\n",
    "nums = []\n",
    "\n",
    "for tu in tus:\n",
    "    tuvs = tu.getElementsByTagName(\"tuv\")\n",
    "    if len(tuvs) < 2:\n",
    "        under2 += 1\n",
    "        #print fn, ': TU has < 2 tuvs'\n",
    "     \n",
    "    if len(tuvs) == 2:\n",
    "        looksgood += 1\n",
    "        #print fn, ': TU has exactly 2 tuvs'    \n",
    "    \n",
    "    if len(tuvs) > 2:\n",
    "        over2 += 1\n",
    "        #print fn, ': TU has > 2 tuvs'    \n",
    "    nums.append(len(tuvs))\n",
    "    \n",
    "print over2, ' TUs have > 2 tuvs'    \n",
    "print under2, ' TUs have < 2 tuvs'\n",
    "print looksgood, ' TUs have exactly 2 tuvs'\n",
    "#print nums\n",
    "print 'TUs:', len(nums), 'tuvs:', sum(nums)"
   ]
  },
  {
   "cell_type": "code",
   "execution_count": 6,
   "metadata": {},
   "outputs": [],
   "source": [
    "# test that there are filenames in filesource attribute in each tuv\n",
    "## this prints a long list of paired heads from filesources of tuvs with Source and Translation attributes\n",
    "# for tu in tus:\n",
    "#     tuvs = tu.getElementsByTagName(\"tuv\")\n",
    "#     for tuv in tuvs:\n",
    "#         tuv_type = tuv.getAttribute('type')\n",
    "#         if tuv_type == 'Source':\n",
    "#             tuv_source = tuv # tuv_source is a new name for tuv\n",
    "#             filesource = tuv_source.getAttribute('filesource')\n",
    "#             print 'Source: ', filesource\n",
    "#             print 'Translations: '\n",
    "#             continue\n",
    "#         if tuv_type == 'Translation':\n",
    "#             tuv_target = tuv\n",
    "#         filetarget = tuv_target.getAttribute('filesource')\n",
    "         \n",
    "#         print '\\t', filetarget, '\\n'"
   ]
  },
  {
   "cell_type": "code",
   "execution_count": null,
   "metadata": {
    "collapsed": true
   },
   "outputs": [],
   "source": []
  },
  {
   "cell_type": "code",
   "execution_count": null,
   "metadata": {
    "collapsed": true
   },
   "outputs": [],
   "source": []
  }
 ],
 "metadata": {
  "kernelspec": {
   "display_name": "Python 2",
   "language": "python",
   "name": "python2"
  },
  "language_info": {
   "codemirror_mode": {
    "name": "ipython",
    "version": 2
   },
   "file_extension": ".py",
   "mimetype": "text/x-python",
   "name": "python",
   "nbconvert_exporter": "python",
   "pygments_lexer": "ipython2",
   "version": "2.7.13"
  }
 },
 "nbformat": 4,
 "nbformat_minor": 2
}
