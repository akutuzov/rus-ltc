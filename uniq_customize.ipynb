{
 "cells": [
  {
   "cell_type": "code",
   "execution_count": 1,
   "metadata": {
    "collapsed": true
   },
   "outputs": [],
   "source": [
    "# limit rltc.tmx to segments from specified files +,
    "# to only one translation from the first (ex. RU_1_34_1.txt) translation file",
    "# rltc.tmx has sentences from other files. An input <tu> can contain more that one translation.\n",
    "# the filenames should be extracted from <tuv filesource=\"EN_6_3.head.txt\", not <prop> \n",
    "\n",
    "# Sept 23, 2017 this is a working version\n",
    "\n",
    "import sys, codecs\n",
    "from xml.dom import minidom"
   ]
  },
  {
   "cell_type": "code",
   "execution_count": 2,
   "metadata": {
    "collapsed": true
   },
   "outputs": [],
   "source": [
    "arg1 = '/home/masha/birmingham/data/rltc.tmx' #finalDavid.tmx\n",
    "arg2 = '/home/masha/birmingham/data/heads_massmedia_rltc.txt'"
   ]
  },
  {
   "cell_type": "code",
   "execution_count": 3,
   "metadata": {},
   "outputs": [
    {
     "name": "stdout",
     "output_type": "stream",
     "text": [
      "<type 'instance'>\n"
     ]
    }
   ],
   "source": [
    "# produce a list of tus\n",
    "doc = minidom.parse(arg1)\n",
    "body = doc.getElementsByTagName(\"body\")[0]\n",
    "# print type(body)"
   ]
  },
  {
   "cell_type": "code",
   "execution_count": 4,
   "metadata": {
    "collapsed": true
   },
   "outputs": [],
   "source": [
    "# make a list of fnpairs of type EN_6_3.head.txt-RU_6_3_1.head.txt\n",
    "list = [w.strip() for w in codecs.open(arg2,'r','utf-8').readlines()]"
   ]
  },
  {
   "cell_type": "code",
   "execution_count": 5,
   "metadata": {},
   "outputs": [
    {
     "name": "stdout",
     "output_type": "stream",
     "text": [
      "The first three source filenames are:  [u'EN_1_1.head.txt', u'EN_1_100.head.txt', u'EN_1_101.head.txt']\n",
      "Their pairs from the list :  [u'RU_1_1_1.head.txt', u'RU_1_100_1.head.txt', u'RU_1_101_1.head.txt']\n"
     ]
    }
   ],
   "source": [
    "# produce separate lists of fns for sources and targets to test tuvs' filesources\n",
    "source_fn = []\n",
    "target_fn = []\n",
    "for i in list:\n",
    "    fns = i.split('-')\n",
    "    source_fn.append(fns[0])\n",
    "    target_fn.append(fns[1])\n",
    "# print 'The first three source filenames are: ', source_fn[0:3]\n",
    "# print 'Their pairs from the list : ', target_fn[:3]"
   ]
  },
  {
   "cell_type": "code",
   "execution_count": 6,
   "metadata": {},
   "outputs": [
    {
     "name": "stdout",
     "output_type": "stream",
     "text": [
      "31702\n",
      "We have dealt with  15059 unmatching source filenames, but not empty types\n"
     ]
    }
   ],
   "source": [
    "# remove whole tus if the filename in tuv with Source attribute is not on the list of allowed sources\n",
    "non_list = 0\n",
    "empty = 0\n",
    "tus = body.getElementsByTagName(\"tu\")\n",
    "print len(tus)\n",
    "for tu in tus:\n",
    "    #print type(tu.parentNode)\n",
    "    tuvs = tu.getElementsByTagName(\"tuv\")\n",
    "    for tuv in tuvs:\n",
    "        \n",
    "        tuv_type = tuv.getAttribute('type') # this works around empty attuibutes (type=\"\")\n",
    "        if tuv_type == 'Source':\n",
    "            fls = tuv.getAttribute('filesource')\n",
    "        # this does the matching with the lists and prints only one translation for sources on the list\n",
    "            if fls.strip() in source_fn: # occasionally says NameError: name 'fls' is not defined\n",
    "                continue\n",
    "            else:\n",
    "                #print 'Non-list items:', fls\n",
    "                non_list +=1\n",
    "                tu.parentNode.removeChild(tu)\n",
    "        break\n",
    "\n",
    "print 'We have dealt with ', non_list, 'unmatching source filenames, but not empty types'    "
   ]
  },
  {
   "cell_type": "code",
   "execution_count": 8,
   "metadata": {},
   "outputs": [
    {
     "name": "stdout",
     "output_type": "stream",
     "text": [
      "16618\n",
      "EN_1_227-RU_1_227_11\n",
      "EN_1_227-RU_1_227_11\n",
      "EN_1_227-RU_1_227_11\n",
      "EN_1_227-RU_1_227_11\n",
      "EN_1_227-RU_1_227_11\n",
      "EN_1_227-RU_1_227_11\n",
      "EN_1_227-RU_1_227_11\n",
      "EN_1_227-RU_1_227_11\n",
      "EN_1_227-RU_1_227_11\n",
      "EN_1_227-RU_1_227_11\n",
      "EN_1_227-RU_1_227_12\n",
      "EN_1_227-RU_1_227_17\n",
      "en-ru\n",
      "en-ru\n",
      "en-ru\n",
      "en-ru\n",
      "en-ru\n",
      "en-ru\n",
      "en-ru\n",
      "en-ru\n",
      "en-ru\n",
      "en-ru\n",
      "en-ru\n",
      "en-ru\n",
      "en-ru\n",
      "en-ru\n",
      "en-ru\n",
      "en-ru\n",
      "en-ru\n",
      "en-ru\n",
      "en-ru\n",
      "en-ru\n",
      "en-ru\n",
      "en-ru\n",
      "en-ru\n",
      "en-ru\n",
      "en-ru\n",
      "en-ru\n",
      "en-ru\n",
      "en-ru\n",
      "en-ru\n",
      "eng-rus\n",
      "eng-rus\n",
      "eng-rus\n",
      "en-rus\n",
      "egypt rus-egypt angl\n",
      "egypt rus-egypt angl\n",
      "egypt rus-egypt angl\n",
      "egypt rus-egypt angl\n",
      "egypt rus-egypt angl\n",
      "egypt rus-egypt angl\n",
      "egypt rus-egypt angl\n",
      "egypt rus-egypt angl\n",
      "egypt rus-egypt angl\n",
      "egypt rus-egypt angl\n",
      "egypt rus-egypt angl\n",
      "egypt rus-egypt angl\n",
      "egypt rus-egypt angl\n",
      "egypt rus-egypt angl\n",
      "egypt rus-egypt angl\n",
      "egypt rus-egypt angl\n",
      "TMX has  15059 tus from non-list sources and  462 cases of empty type (all deleted)\n",
      "There are  8647 unwanted targets\n"
     ]
    }
   ],
   "source": [
    "# get and remove Translations from files NOT on the list of targets wanted\n",
    "unwanted_targets = 0\n",
    "tus = body.getElementsByTagName(\"tu\")\n",
    "print len(tus)\n",
    "for tu in tus:\n",
    "    #print type(tu)\n",
    "    tuvs = tu.getElementsByTagName(\"tuv\")\n",
    "    for tuv in tuvs:\n",
    "        tuv_type = tuv.getAttribute('type')\n",
    "        if tuv_type == 'Source':\n",
    "            continue\n",
    "        elif tuv_type == 'Translation':\n",
    "            trt_fls = tuv.getAttribute('filesource')\n",
    "        # this does the matching with the lists and prints on-list translation for sources on the list \n",
    "        # sometimes more than one _1 is found!! sometimes none is found!\n",
    "            if trt_fls.strip() in target_fn:\n",
    "                #print 'List items:', trt_fls\n",
    "                continue\n",
    "        # this removes translations from non _1 target files\n",
    "            else:\n",
    "                #print 'Non-list items:', trt_fls\n",
    "                unwanted_targets +=1\n",
    "                this_tu = tuv.parentNode\n",
    "                this_tu.removeChild(tuv)\n",
    "                \n",
    "        else:\n",
    "            empty +=1\n",
    "            if tu.parentNode is not None:\n",
    "                tu.parentNode.removeChild(tu)\n",
    "            else:\n",
    "                props = tu.getElementsByTagName(\"prop\")\n",
    "                if len(props)>0:\n",
    "                    prop0 = props[0]\n",
    "                    if len(prop0.childNodes)>0:\n",
    "                        fn = prop0.childNodes[-1].data\n",
    "                        print fn\n",
    "        \n",
    "print 'TMX has ', non_list, 'tus from non-list sources and ', empty, 'cases of empty type (all deleted)'   \n",
    "print 'There are ', unwanted_targets, 'unwanted targets'"
   ]
  },
  {
   "cell_type": "code",
   "execution_count": 10,
   "metadata": {},
   "outputs": [
    {
     "name": "stdout",
     "output_type": "stream",
     "text": [
      "16408\n",
      "0\n"
     ]
    }
   ],
   "source": [
    "# get rid of erroneous extra _1.head.txt in one tu and other non _1 translations\n",
    "del_over2 = 0\n",
    "tus = body.getElementsByTagName(\"tu\")\n",
    "print len(tus)\n",
    "for tu in tus:\n",
    "    tuvs = tu.getElementsByTagName(\"tuv\")\n",
    "    for tuv in tuvs:\n",
    "        tuv_type = tuv.getAttribute('type') \n",
    "        if tuv_type == 'Source':\n",
    "            src_fls = tuv.getAttribute('filesource')\n",
    "            #print src_fls\n",
    "        if tuv_type == 'Translation':\n",
    "            trt_fls = tuv.getAttribute('filesource')\n",
    "            #print trt_fls\n",
    "            \n",
    "            if src_fls.lstrip('EN').rstrip('.head.txt') != trt_fls.lstrip('RU').rstrip('_1.head.txt'):\n",
    "                #print src_fls.lstrip('EN').rstrip('.head.txt'), '\\t', trt_fls.lstrip('RU').rstrip('_1.head.txt')\n",
    "                del_over2 += 1\n",
    "                tuv.parentNode.removeChild(tuv)\n",
    "            \n",
    "print del_over2"
   ]
  },
  {
   "cell_type": "code",
   "execution_count": 11,
   "metadata": {},
   "outputs": [
    {
     "name": "stdout",
     "output_type": "stream",
     "text": [
      "16408\n",
      "16408\n"
     ]
    }
   ],
   "source": [
    "del_over2 = 0\n",
    "tus = body.getElementsByTagName(\"tu\")\n",
    "for tu in tus:\n",
    "    tuvs = tu.getElementsByTagName(\"tuv\")\n",
    "    n = len(tuvs)\n",
    "    for k in reversed(range(2,n)): # loop thru el backwards; otherwise on has to do with changed index\n",
    "        el = tuvs[k]\n",
    "        tu.removeChild(el)\n",
    "        del_over2 += 1\n",
    "\n",
    "print del_over2"
   ]
  },
  {
   "cell_type": "code",
   "execution_count": 12,
   "metadata": {},
   "outputs": [
    {
     "name": "stdout",
     "output_type": "stream",
     "text": [
      "6598\n"
     ]
    }
   ],
   "source": [
    "# get rid of tus with < 2 tuvs\n",
    "del_under2 = 0\n",
    "tus = body.getElementsByTagName(\"tu\")\n",
    "for tu in tus:\n",
    "    tuvs = tu.getElementsByTagName(\"tuv\")\n",
    "    if len(tuvs) >= 2:\n",
    "        continue\n",
    "    else:\n",
    "        del_under2 += 1\n",
    "        tu.parentNode.removeChild(tu)\n",
    "print del_under2"
   ]
  },
  {
   "cell_type": "code",
   "execution_count": 13,
   "metadata": {
    "collapsed": true
   },
   "outputs": [],
   "source": [
    "# print the resulting body to a new file\n",
    "\n",
    "\n",
    "ofile = codecs.open('/home/masha/birmingham/data/fin_filtered_rltc.tmx','wb','utf8')#the resulting cleaned (customized) tmx is in the argv folder\n",
    "ofile.write(doc.toxml())\n",
    "\n",
    "ofile.close()"
   ]
  },
  {
   "cell_type": "code",
   "execution_count": null,
   "metadata": {
    "collapsed": true
   },
   "outputs": [],
   "source": []
  }
 ],
 "metadata": {
  "celltoolbar": "Raw Cell Format",
  "kernelspec": {
   "display_name": "Python 2",
   "language": "python",
   "name": "python2"
  },
  "language_info": {
   "codemirror_mode": {
    "name": "ipython",
    "version": 2
   },
   "file_extension": ".py",
   "mimetype": "text/x-python",
   "name": "python",
   "nbconvert_exporter": "python",
   "pygments_lexer": "ipython2",
   "version": "2.7.13"
  }
 },
 "nbformat": 4,
 "nbformat_minor": 2
}
